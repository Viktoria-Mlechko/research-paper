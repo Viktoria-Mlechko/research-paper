{
 "cells": [
  {
   "cell_type": "code",
   "execution_count": 302,
   "id": "41afe95d",
   "metadata": {},
   "outputs": [
    {
     "data": {
      "text/plain": [
       "array([1.01])"
      ]
     },
     "execution_count": 302,
     "metadata": {},
     "output_type": "execute_result"
    }
   ],
   "source": [
    "import numpy as np\n",
    "import pandas as pd\n",
    "import matplotlib as mpl\n",
    "from matplotlib import pyplot as pplt\n",
    "file= open(r\"C:\\Users\\user\\YandexDisk\\study\\6th_semester\\research paper\\Visualisation\\research-paper\\data\\Tvd0001.dat\")\n",
    "gamma=np.fromfile(file, np.float64, 1)\n",
    "gamma"
   ]
  },
  {
   "cell_type": "code",
   "execution_count": 303,
   "id": "4673afaa",
   "metadata": {},
   "outputs": [
    {
     "data": {
      "text/plain": [
       "array([0.1])"
      ]
     },
     "execution_count": 303,
     "metadata": {},
     "output_type": "execute_result"
    }
   ],
   "source": [
    "t=np.fromfile(file, np.float64, 1)\n",
    "t"
   ]
  },
  {
   "cell_type": "code",
   "execution_count": 304,
   "id": "642fab36",
   "metadata": {},
   "outputs": [
    {
     "data": {
      "text/plain": [
       "array([300])"
      ]
     },
     "execution_count": 304,
     "metadata": {},
     "output_type": "execute_result"
    }
   ],
   "source": [
    "N_r=np.fromfile(file, np.int32, 1)\n",
    "N_r"
   ]
  },
  {
   "cell_type": "code",
   "execution_count": 305,
   "id": "a8ee4239",
   "metadata": {},
   "outputs": [
    {
     "data": {
      "text/plain": [
       "array([90])"
      ]
     },
     "execution_count": 305,
     "metadata": {},
     "output_type": "execute_result"
    }
   ],
   "source": [
    "N_phi=np.fromfile(file, np.int32, 1)\n",
    "N_phi"
   ]
  },
  {
   "cell_type": "code",
   "execution_count": 306,
   "id": "37f5f329",
   "metadata": {},
   "outputs": [
    {
     "data": {
      "text/plain": [
       "array([1])"
      ]
     },
     "execution_count": 306,
     "metadata": {},
     "output_type": "execute_result"
    }
   ],
   "source": [
    "N_z=np.fromfile(file, np.int32, 1)\n",
    "N_z"
   ]
  },
  {
   "cell_type": "code",
   "execution_count": 307,
   "id": "9b710bda",
   "metadata": {},
   "outputs": [
    {
     "data": {
      "text/plain": [
       "array([0.00833333, 0.025     , 0.04166667, 0.05833333, 0.075     ,\n",
       "       0.09166667, 0.10833333, 0.125     , 0.14166667, 0.15833333,\n",
       "       0.175     , 0.19166667, 0.20833333, 0.225     , 0.24166667,\n",
       "       0.25833333, 0.275     , 0.29166667, 0.30833333, 0.325     ,\n",
       "       0.34166667, 0.35833333, 0.375     , 0.39166667, 0.40833333,\n",
       "       0.425     , 0.44166667, 0.45833333, 0.475     , 0.49166667,\n",
       "       0.50833333, 0.525     , 0.54166667, 0.55833333, 0.575     ,\n",
       "       0.59166667, 0.60833333, 0.625     , 0.64166667, 0.65833333,\n",
       "       0.675     , 0.69166667, 0.70833333, 0.725     , 0.74166667,\n",
       "       0.75833333, 0.775     , 0.79166667, 0.80833333, 0.825     ,\n",
       "       0.84166667, 0.85833333, 0.875     , 0.89166667, 0.90833333,\n",
       "       0.925     , 0.94166667, 0.95833333, 0.975     , 0.99166667,\n",
       "       1.00833333, 1.025     , 1.04166667, 1.05833333, 1.075     ,\n",
       "       1.09166667, 1.10833333, 1.125     , 1.14166667, 1.15833333,\n",
       "       1.175     , 1.19166667, 1.20833333, 1.225     , 1.24166667,\n",
       "       1.25833333, 1.275     , 1.29166667, 1.30833333, 1.325     ,\n",
       "       1.34166667, 1.35833333, 1.375     , 1.39166667, 1.40833333,\n",
       "       1.425     , 1.44166667, 1.45833333, 1.475     , 1.49166667,\n",
       "       1.50833333, 1.525     , 1.54166667, 1.55833333, 1.575     ,\n",
       "       1.59166667, 1.60833333, 1.625     , 1.64166667, 1.65833333,\n",
       "       1.675     , 1.69166667, 1.70833333, 1.725     , 1.74166667,\n",
       "       1.75833333, 1.775     , 1.79166667, 1.80833333, 1.825     ,\n",
       "       1.84166667, 1.85833333, 1.875     , 1.89166667, 1.90833333,\n",
       "       1.925     , 1.94166667, 1.95833333, 1.975     , 1.99166667,\n",
       "       2.00833333, 2.025     , 2.04166667, 2.05833333, 2.075     ,\n",
       "       2.09166667, 2.10833333, 2.125     , 2.14166667, 2.15833333,\n",
       "       2.175     , 2.19166667, 2.20833333, 2.225     , 2.24166667,\n",
       "       2.25833333, 2.275     , 2.29166667, 2.30833333, 2.325     ,\n",
       "       2.34166667, 2.35833333, 2.375     , 2.39166667, 2.40833333,\n",
       "       2.425     , 2.44166667, 2.45833333, 2.475     , 2.49166667,\n",
       "       2.50833333, 2.525     , 2.54166667, 2.55833333, 2.575     ,\n",
       "       2.59166667, 2.60833333, 2.625     , 2.64166667, 2.65833333,\n",
       "       2.675     , 2.69166667, 2.70833333, 2.725     , 2.74166667,\n",
       "       2.75833333, 2.775     , 2.79166667, 2.80833333, 2.825     ,\n",
       "       2.84166667, 2.85833333, 2.875     , 2.89166667, 2.90833333,\n",
       "       2.925     , 2.94166667, 2.95833333, 2.975     , 2.99166667,\n",
       "       3.00833333, 3.025     , 3.04166667, 3.05833333, 3.075     ,\n",
       "       3.09166667, 3.10833333, 3.125     , 3.14166667, 3.15833333,\n",
       "       3.175     , 3.19166667, 3.20833333, 3.225     , 3.24166667,\n",
       "       3.25833333, 3.275     , 3.29166667, 3.30833333, 3.325     ,\n",
       "       3.34166667, 3.35833333, 3.375     , 3.39166667, 3.40833333,\n",
       "       3.425     , 3.44166667, 3.45833333, 3.475     , 3.49166667,\n",
       "       3.50833333, 3.525     , 3.54166667, 3.55833333, 3.575     ,\n",
       "       3.59166667, 3.60833333, 3.625     , 3.64166667, 3.65833333,\n",
       "       3.675     , 3.69166667, 3.70833333, 3.725     , 3.74166667,\n",
       "       3.75833333, 3.775     , 3.79166667, 3.80833333, 3.825     ,\n",
       "       3.84166667, 3.85833333, 3.875     , 3.89166667, 3.90833333,\n",
       "       3.925     , 3.94166667, 3.95833333, 3.975     , 3.99166667,\n",
       "       4.00833333, 4.025     , 4.04166667, 4.05833333, 4.075     ,\n",
       "       4.09166667, 4.10833333, 4.125     , 4.14166667, 4.15833333,\n",
       "       4.175     , 4.19166667, 4.20833333, 4.225     , 4.24166667,\n",
       "       4.25833333, 4.275     , 4.29166667, 4.30833333, 4.325     ,\n",
       "       4.34166667, 4.35833333, 4.375     , 4.39166667, 4.40833333,\n",
       "       4.425     , 4.44166667, 4.45833333, 4.475     , 4.49166667,\n",
       "       4.50833333, 4.525     , 4.54166667, 4.55833333, 4.575     ,\n",
       "       4.59166667, 4.60833333, 4.625     , 4.64166667, 4.65833333,\n",
       "       4.675     , 4.69166667, 4.70833333, 4.725     , 4.74166667,\n",
       "       4.75833333, 4.775     , 4.79166667, 4.80833333, 4.825     ,\n",
       "       4.84166667, 4.85833333, 4.875     , 4.89166667, 4.90833333,\n",
       "       4.925     , 4.94166667, 4.95833333, 4.975     , 4.99166667])"
      ]
     },
     "execution_count": 307,
     "metadata": {},
     "output_type": "execute_result"
    }
   ],
   "source": [
    "rad = np.fromfile(file, np.double, N_r[0])\n",
    "rad"
   ]
  },
  {
   "cell_type": "code",
   "execution_count": 308,
   "id": "1d92f14c",
   "metadata": {},
   "outputs": [
    {
     "name": "stdout",
     "output_type": "stream",
     "text": [
      "[300]\n"
     ]
    }
   ],
   "source": [
    "print(N_r)"
   ]
  },
  {
   "cell_type": "code",
   "execution_count": 309,
   "id": "cf154ae3",
   "metadata": {},
   "outputs": [
    {
     "data": {
      "text/plain": [
       "array([0.03490659, 0.10471976, 0.17453293, 0.2443461 , 0.31415927,\n",
       "       0.38397244, 0.45378561, 0.52359878, 0.59341195, 0.66322512,\n",
       "       0.73303829, 0.80285146, 0.87266463, 0.9424778 , 1.01229097,\n",
       "       1.08210414, 1.15191731, 1.22173048, 1.29154365, 1.36135682,\n",
       "       1.43116999, 1.50098316, 1.57079633, 1.6406095 , 1.71042267,\n",
       "       1.78023584, 1.85004901, 1.91986218, 1.98967535, 2.05948852,\n",
       "       2.12930169, 2.19911486, 2.26892803, 2.3387412 , 2.40855437,\n",
       "       2.47836754, 2.54818071, 2.61799388, 2.68780705, 2.75762022,\n",
       "       2.82743339, 2.89724656, 2.96705973, 3.0368729 , 3.10668607,\n",
       "       3.17649924, 3.24631241, 3.31612558, 3.38593875, 3.45575192,\n",
       "       3.52556509, 3.59537826, 3.66519143, 3.7350046 , 3.80481777,\n",
       "       3.87463094, 3.94444411, 4.01425728, 4.08407045, 4.15388362,\n",
       "       4.22369679, 4.29350996, 4.36332313, 4.4331363 , 4.50294947,\n",
       "       4.57276264, 4.64257581, 4.71238898, 4.78220215, 4.85201532,\n",
       "       4.92182849, 4.99164166, 5.06145483, 5.131268  , 5.20108117,\n",
       "       5.27089434, 5.34070751, 5.41052068, 5.48033385, 5.55014702,\n",
       "       5.61996019, 5.68977336, 5.75958653, 5.8293997 , 5.89921287,\n",
       "       5.96902604, 6.03883921, 6.10865238, 6.17846555, 6.24827872])"
      ]
     },
     "execution_count": 309,
     "metadata": {},
     "output_type": "execute_result"
    }
   ],
   "source": [
    "phi=np.fromfile(file, np.float64, N_phi[0])\n",
    "phi"
   ]
  },
  {
   "cell_type": "code",
   "execution_count": 310,
   "id": "425ac79a",
   "metadata": {},
   "outputs": [
    {
     "data": {
      "text/plain": [
       "array([0.])"
      ]
     },
     "execution_count": 310,
     "metadata": {},
     "output_type": "execute_result"
    }
   ],
   "source": [
    "Z=np.fromfile(file, np.float64, 1)\n",
    "Z"
   ]
  },
  {
   "cell_type": "code",
   "execution_count": 311,
   "id": "6f50e03b",
   "metadata": {},
   "outputs": [
    {
     "name": "stdout",
     "output_type": "stream",
     "text": [
      "[0.         0.         0.17155895 ... 0.         0.         0.        ]\n"
     ]
    }
   ],
   "source": [
    "Ro=np.fromfile(file, np.float64, (N_r[0]+4) * (N_phi[0]+4))\n",
    "print(Ro)"
   ]
  },
  {
   "cell_type": "code",
   "execution_count": 299,
   "id": "7c73eaa5",
   "metadata": {},
   "outputs": [
    {
     "data": {
      "text/plain": [
       "<function matplotlib.pyplot.contour(*args, data=None, **kwargs)>"
      ]
     },
     "execution_count": 299,
     "metadata": {},
     "output_type": "execute_result"
    }
   ],
   "source": [
    "mpl.pyplot.contour"
   ]
  },
  {
   "cell_type": "code",
   "execution_count": 313,
   "id": "6899bb9c",
   "metadata": {},
   "outputs": [],
   "source": [
    "Ro=np.reshape(Ro, (N_r[0]+4, N_phi[0]+4))    "
   ]
  },
  {
   "cell_type": "code",
   "execution_count": 315,
   "id": "812a322f",
   "metadata": {},
   "outputs": [
    {
     "data": {
      "text/plain": [
       "(304, 94)"
      ]
     },
     "execution_count": 315,
     "metadata": {},
     "output_type": "execute_result"
    }
   ],
   "source": [
    "np.shape(Ro)"
   ]
  },
  {
   "cell_type": "code",
   "execution_count": 316,
   "id": "5c74ee52",
   "metadata": {},
   "outputs": [
    {
     "data": {
      "text/plain": [
       "array([[0.        , 0.        , 0.17155895, ..., 0.17160893, 0.        ,\n",
       "        0.        ],\n",
       "       [0.        , 0.        , 0.17282019, ..., 0.17280243, 0.        ,\n",
       "        0.        ],\n",
       "       [0.1726289 , 0.17280257, 0.17284678, ..., 0.17282887, 0.1728203 ,\n",
       "        0.17288214],\n",
       "       ...,\n",
       "       [0.00045572, 0.00045378, 0.00045128, ..., 0.0004536 , 0.00045157,\n",
       "        0.00044954],\n",
       "       [0.        , 0.        , 0.        , ..., 0.        , 0.        ,\n",
       "        0.        ],\n",
       "       [0.        , 0.        , 0.        , ..., 0.        , 0.        ,\n",
       "        0.        ]])"
      ]
     },
     "execution_count": 316,
     "metadata": {},
     "output_type": "execute_result"
    }
   ],
   "source": [
    "Ro"
   ]
  },
  {
   "cell_type": "code",
   "execution_count": 318,
   "id": "e3a6ae1b",
   "metadata": {},
   "outputs": [
    {
     "data": {
      "text/plain": [
       "[<matplotlib.lines.Line2D at 0x1e76e76f460>,\n",
       " <matplotlib.lines.Line2D at 0x1e76e76f4c0>,\n",
       " <matplotlib.lines.Line2D at 0x1e76e76f5e0>,\n",
       " <matplotlib.lines.Line2D at 0x1e76e76f700>,\n",
       " <matplotlib.lines.Line2D at 0x1e76e76f820>,\n",
       " <matplotlib.lines.Line2D at 0x1e76e76f940>,\n",
       " <matplotlib.lines.Line2D at 0x1e76e76fa60>,\n",
       " <matplotlib.lines.Line2D at 0x1e76e76fb80>,\n",
       " <matplotlib.lines.Line2D at 0x1e76e76fca0>,\n",
       " <matplotlib.lines.Line2D at 0x1e76e76fdc0>,\n",
       " <matplotlib.lines.Line2D at 0x1e76e76fee0>,\n",
       " <matplotlib.lines.Line2D at 0x1e76e76f490>,\n",
       " <matplotlib.lines.Line2D at 0x1e76e778130>,\n",
       " <matplotlib.lines.Line2D at 0x1e76e778250>,\n",
       " <matplotlib.lines.Line2D at 0x1e76e778370>,\n",
       " <matplotlib.lines.Line2D at 0x1e76e778490>,\n",
       " <matplotlib.lines.Line2D at 0x1e76e7785b0>,\n",
       " <matplotlib.lines.Line2D at 0x1e76e7786d0>,\n",
       " <matplotlib.lines.Line2D at 0x1e76e7787f0>,\n",
       " <matplotlib.lines.Line2D at 0x1e76e778910>,\n",
       " <matplotlib.lines.Line2D at 0x1e76e778a30>,\n",
       " <matplotlib.lines.Line2D at 0x1e76e778b50>,\n",
       " <matplotlib.lines.Line2D at 0x1e76e778c70>,\n",
       " <matplotlib.lines.Line2D at 0x1e76e778d90>,\n",
       " <matplotlib.lines.Line2D at 0x1e76e778eb0>,\n",
       " <matplotlib.lines.Line2D at 0x1e76e778fd0>,\n",
       " <matplotlib.lines.Line2D at 0x1e76e77f130>,\n",
       " <matplotlib.lines.Line2D at 0x1e76e77f250>,\n",
       " <matplotlib.lines.Line2D at 0x1e76e77f370>,\n",
       " <matplotlib.lines.Line2D at 0x1e76e77f490>,\n",
       " <matplotlib.lines.Line2D at 0x1e76e77f5b0>,\n",
       " <matplotlib.lines.Line2D at 0x1e76e77f6d0>,\n",
       " <matplotlib.lines.Line2D at 0x1e76e77f7f0>,\n",
       " <matplotlib.lines.Line2D at 0x1e76e77f910>,\n",
       " <matplotlib.lines.Line2D at 0x1e76e77fa30>,\n",
       " <matplotlib.lines.Line2D at 0x1e76e77fb50>,\n",
       " <matplotlib.lines.Line2D at 0x1e76e77fc70>,\n",
       " <matplotlib.lines.Line2D at 0x1e76e77fd90>,\n",
       " <matplotlib.lines.Line2D at 0x1e76e77feb0>,\n",
       " <matplotlib.lines.Line2D at 0x1e76e77ffd0>,\n",
       " <matplotlib.lines.Line2D at 0x1e76e784130>,\n",
       " <matplotlib.lines.Line2D at 0x1e76e784250>,\n",
       " <matplotlib.lines.Line2D at 0x1e76e784370>,\n",
       " <matplotlib.lines.Line2D at 0x1e76e784490>,\n",
       " <matplotlib.lines.Line2D at 0x1e76e7845b0>,\n",
       " <matplotlib.lines.Line2D at 0x1e76e7846d0>,\n",
       " <matplotlib.lines.Line2D at 0x1e76e7847f0>,\n",
       " <matplotlib.lines.Line2D at 0x1e76e784910>,\n",
       " <matplotlib.lines.Line2D at 0x1e76e784a30>,\n",
       " <matplotlib.lines.Line2D at 0x1e76e784b50>,\n",
       " <matplotlib.lines.Line2D at 0x1e76e784c70>,\n",
       " <matplotlib.lines.Line2D at 0x1e76e784d90>,\n",
       " <matplotlib.lines.Line2D at 0x1e76e784eb0>,\n",
       " <matplotlib.lines.Line2D at 0x1e76e784fd0>,\n",
       " <matplotlib.lines.Line2D at 0x1e76e78b130>,\n",
       " <matplotlib.lines.Line2D at 0x1e76e78b250>,\n",
       " <matplotlib.lines.Line2D at 0x1e76e78b370>,\n",
       " <matplotlib.lines.Line2D at 0x1e76e78b490>,\n",
       " <matplotlib.lines.Line2D at 0x1e76e78b5b0>,\n",
       " <matplotlib.lines.Line2D at 0x1e76e78b6d0>,\n",
       " <matplotlib.lines.Line2D at 0x1e76e78b7f0>,\n",
       " <matplotlib.lines.Line2D at 0x1e76e78b910>,\n",
       " <matplotlib.lines.Line2D at 0x1e76e78ba30>,\n",
       " <matplotlib.lines.Line2D at 0x1e76e78bb50>,\n",
       " <matplotlib.lines.Line2D at 0x1e76e78bc70>,\n",
       " <matplotlib.lines.Line2D at 0x1e76e78bd90>,\n",
       " <matplotlib.lines.Line2D at 0x1e76e78beb0>,\n",
       " <matplotlib.lines.Line2D at 0x1e76e78bfd0>,\n",
       " <matplotlib.lines.Line2D at 0x1e76f852130>,\n",
       " <matplotlib.lines.Line2D at 0x1e76f852250>,\n",
       " <matplotlib.lines.Line2D at 0x1e76f852370>,\n",
       " <matplotlib.lines.Line2D at 0x1e76f852490>,\n",
       " <matplotlib.lines.Line2D at 0x1e76f8525b0>,\n",
       " <matplotlib.lines.Line2D at 0x1e76f8526d0>,\n",
       " <matplotlib.lines.Line2D at 0x1e76f8527f0>,\n",
       " <matplotlib.lines.Line2D at 0x1e76f852910>,\n",
       " <matplotlib.lines.Line2D at 0x1e76f852a30>,\n",
       " <matplotlib.lines.Line2D at 0x1e76f852b50>,\n",
       " <matplotlib.lines.Line2D at 0x1e76f852c70>,\n",
       " <matplotlib.lines.Line2D at 0x1e76f852d90>,\n",
       " <matplotlib.lines.Line2D at 0x1e76f852eb0>,\n",
       " <matplotlib.lines.Line2D at 0x1e76f852fd0>,\n",
       " <matplotlib.lines.Line2D at 0x1e76f858130>,\n",
       " <matplotlib.lines.Line2D at 0x1e76f858250>,\n",
       " <matplotlib.lines.Line2D at 0x1e76f858370>,\n",
       " <matplotlib.lines.Line2D at 0x1e76f858490>,\n",
       " <matplotlib.lines.Line2D at 0x1e76f8585b0>,\n",
       " <matplotlib.lines.Line2D at 0x1e76f8586d0>,\n",
       " <matplotlib.lines.Line2D at 0x1e76f8587f0>,\n",
       " <matplotlib.lines.Line2D at 0x1e76f858910>,\n",
       " <matplotlib.lines.Line2D at 0x1e76f858a30>,\n",
       " <matplotlib.lines.Line2D at 0x1e76f858b50>,\n",
       " <matplotlib.lines.Line2D at 0x1e76f858c70>,\n",
       " <matplotlib.lines.Line2D at 0x1e76f858d90>]"
      ]
     },
     "execution_count": 318,
     "metadata": {},
     "output_type": "execute_result"
    },
    {
     "data": {
      "image/png": "[encoded data removed]",
      "text/plain": [
       "<Figure size 640x480 with 1 Axes>"
      ]
     },
     "metadata": {},
     "output_type": "display_data"
    }
   ],
   "source": [
    "pplt.plot(Ro)"
   ]
  },
  {
   "cell_type": "code",
   "execution_count": null,
   "id": "e31a06df",
   "metadata": {},
   "outputs": [],
   "source": []
  }
 ],
 "metadata": {
  "kernelspec": {
   "display_name": "Python 3 (ipykernel)",
   "language": "python",
   "name": "python3"
  },
  "language_info": {
   "codemirror_mode": {
    "name": "ipython",
    "version": 3
   },
   "file_extension": ".py",
   "mimetype": "text/x-python",
   "name": "python",
   "nbconvert_exporter": "python",
   "pygments_lexer": "ipython3",
   "version": "3.9.13"
  }
 },
 "nbformat": 4,
 "nbformat_minor": 5
}
